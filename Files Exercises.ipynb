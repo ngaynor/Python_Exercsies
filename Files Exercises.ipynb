{
 "cells": [
  {
   "cell_type": "code",
   "execution_count": 16,
   "id": "2dc5bd4a",
   "metadata": {},
   "outputs": [],
   "source": [
    "#Q1 Create a text file called mytxt.txt\n",
    "# Save the following content in the text file:\n",
    "# \"In this section, we will use Python's built-in open function to create a file\n",
    "# and obtain the data from a \"txt\" file.\n",
    "# We will use Python's open function to get a file object.\n",
    "# We can apply a method to that object to read data from the file.\n",
    "# The first argument is the file path, the second parameter is the mode.\"\n",
    "\n",
    "f = open(\"mytxt.txt\",\"w+\")\n",
    "f.write(\"In this section, we will use Python's built-in open function to create a file and obtain the data from a 'txt' file.\\nWe will use Python's open function to get a file object.\\nWe can apply a method to that object to read data from the file.\\nThe first argument is the file path, the second parameter is the mode.\")\n",
    "f.close()"
   ]
  },
  {
   "cell_type": "code",
   "execution_count": 17,
   "id": "ae66fbe9",
   "metadata": {},
   "outputs": [
    {
     "name": "stdout",
     "output_type": "stream",
     "text": [
      "In this section, we will use Python's built-in open function to create a file and obtain the data from a 'txt' file.\n",
      "We will use Python's open function to get a file object.\n",
      "We can apply a method to that object to read data from the file.\n",
      "The first argument is the file path, the second parameter is the mode.\n"
     ]
    }
   ],
   "source": [
    "#Q1 Write a Python program to read the entire mytxt file\n",
    "f = open(\"mytxt.txt\",\"r\")\n",
    "print(f.read())\n",
    "f.close()"
   ]
  },
  {
   "cell_type": "code",
   "execution_count": 18,
   "id": "a267b947",
   "metadata": {},
   "outputs": [
    {
     "name": "stdout",
     "output_type": "stream",
     "text": [
      "We will use Python's open function to get a file object.\n",
      "\n",
      "We can apply a method to that object to read data from the file.\n",
      "\n",
      "The first argument is the file path, the second parameter is the mode.\n"
     ]
    }
   ],
   "source": [
    "#Q2 Write a Python program to read last 3 lines of mytxt file\n",
    "f = open(\"mytxt.txt\",'r')\n",
    "x = f.readlines()[-3:]\n",
    "print('\\n'.join(map(str,x)))"
   ]
  },
  {
   "cell_type": "code",
   "execution_count": 24,
   "id": "485b077a",
   "metadata": {},
   "outputs": [
    {
     "name": "stdout",
     "output_type": "stream",
     "text": [
      "We can apply a method to that object to read data from the file.\n",
      "The first argument is the file path, the second parameter is the mode."
     ]
    }
   ],
   "source": [
    "#Q3 Write a Python program to read last n lines of mytxt file\n",
    "#[Hint: write a function]\n",
    "\n",
    "def last_lines(n):\n",
    "    with open(\"mytxt.txt\",'r') as file:\n",
    "        for line in (file.readlines()[-n:]):\n",
    "            x = print(line,end='')\n",
    "        return x\n",
    "\n",
    "last_lines(2)\n",
    "    "
   ]
  },
  {
   "cell_type": "code",
   "execution_count": 25,
   "id": "2762c1bc",
   "metadata": {},
   "outputs": [
    {
     "name": "stdout",
     "output_type": "stream",
     "text": [
      "Number of Lines in File: 4\n"
     ]
    }
   ],
   "source": [
    "#Q4 count the number of lines in mytxt file\n",
    "with open(\"mytxt.txt\",'r') as file:\n",
    "    lines = file.readlines()\n",
    "    for i,j in enumerate(lines):\n",
    "        pass\n",
    "print(\"Number of Lines in File:\", i+1)\n",
    "    "
   ]
  },
  {
   "cell_type": "code",
   "execution_count": 26,
   "id": "95387fc9",
   "metadata": {},
   "outputs": [],
   "source": [
    "#Q5 Write a Python program to generate 26 text files named A.txt, B.txt,... Z.txt\n",
    "import string, os\n",
    "\n",
    "for letter in string.ascii_uppercase:\n",
    "    with open(letter + \".txt\", \"w\") as f:\n",
    "        f.writelines(letter)"
   ]
  },
  {
   "cell_type": "code",
   "execution_count": 27,
   "id": "8ed38185",
   "metadata": {},
   "outputs": [],
   "source": [
    "#removes text files from previous question\n",
    "for letter in string.ascii_uppercase:\n",
    "    os.remove(letter + \".txt\")"
   ]
  },
  {
   "cell_type": "code",
   "execution_count": 28,
   "id": "095433c5",
   "metadata": {},
   "outputs": [
    {
     "name": "stdout",
     "output_type": "stream",
     "text": [
      "In this section, we will use Python's built-in open function to create a file and obtain the data from a 'txt' file.\n",
      "We will use Python's open function to get a file object.\n",
      "We can apply a method to that object to read data from the file.\n",
      "The first argument is the file path, the second parameter is the mode.\n",
      "End of file\n"
     ]
    }
   ],
   "source": [
    "#Q6 Write a Python program to append \"End of file\" to mytxt file and\n",
    "# display the text\n",
    "with open(\"mytxt.txt\",\"a\") as file:\n",
    "    file.write(\"\\nEnd of file\")\n",
    "with open(\"mytxt.txt\") as file:\n",
    "    x=file.read()\n",
    "    print(x)"
   ]
  },
  {
   "cell_type": "code",
   "execution_count": 29,
   "id": "a2870989",
   "metadata": {},
   "outputs": [
    {
     "name": "stdout",
     "output_type": "stream",
     "text": [
      "In this section, we will use Python's built-in open function to create a file and obtain the data from a 'txt' file.We will use Python's open function to get a file object.We can apply a method to that object to read data from the file.The first argument is the file path, the second parameter is the mode.End of file\n"
     ]
    }
   ],
   "source": [
    "#Q7 Write a Python program to remove newline characters from mytxt file\n",
    "def remove_newline_character(file):\n",
    "    myFile=open(file,'r')\n",
    "    text=myFile.read().replace('\\n','')\n",
    "    myFile.close()\n",
    "    return(text)\n",
    "\n",
    "print(remove_newline_character('mytxt.txt'))"
   ]
  },
  {
   "cell_type": "code",
   "execution_count": 30,
   "id": "9bcac262",
   "metadata": {},
   "outputs": [
    {
     "data": {
      "text/plain": [
       "'parameter'"
      ]
     },
     "execution_count": 30,
     "metadata": {},
     "output_type": "execute_result"
    }
   ],
   "source": [
    "# Q8 Write a python program to find the longest word in mytxt file\n",
    "def longest_word(file):\n",
    "    with open(file) as myfile:\n",
    "        words = myfile.read().split()\n",
    "        \n",
    "    max_len = len(max(words, key=len))\n",
    "    \n",
    "    for word in words:\n",
    "        if len(word) == max_len:\n",
    "            return word\n",
    "    #same output as for loop -> return[word for word in words if len(word)==max_len]\n",
    "    \n",
    "longest_word(\"mytxt.txt\")"
   ]
  },
  {
   "cell_type": "code",
   "execution_count": 33,
   "id": "1dee8d21",
   "metadata": {},
   "outputs": [
    {
     "name": "stdout",
     "output_type": "stream",
     "text": [
      "Enter a word to check how many times it occurs in the text:We\n",
      "The word,' We ',occurs 2 times in the text.\n"
     ]
    }
   ],
   "source": [
    "#Q9 Write a Python program to count the frequency \"We\" in mytxt file\n",
    "def word_freq(file, word):\n",
    "    with open(file) as myfile:\n",
    "        words = myfile.read().split()\n",
    "    \n",
    "    x = words.count(word)\n",
    "    return x\n",
    "\n",
    "word = input(\"Enter a word to check how many times it occurs in the text:\")\n",
    "print(\"The word,'\",word,\"',occurs\", word_freq(\"mytxt.txt\",word),\"times in the text.\")\n",
    "    "
   ]
  }
 ],
 "metadata": {
  "kernelspec": {
   "display_name": "Python 3 (ipykernel)",
   "language": "python",
   "name": "python3"
  },
  "language_info": {
   "codemirror_mode": {
    "name": "ipython",
    "version": 3
   },
   "file_extension": ".py",
   "mimetype": "text/x-python",
   "name": "python",
   "nbconvert_exporter": "python",
   "pygments_lexer": "ipython3",
   "version": "3.9.13"
  }
 },
 "nbformat": 4,
 "nbformat_minor": 5
}
