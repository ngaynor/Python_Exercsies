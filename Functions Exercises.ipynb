{
 "cells": [
  {
   "cell_type": "code",
   "execution_count": 43,
   "id": "1b0fad6e",
   "metadata": {},
   "outputs": [
    {
     "data": {
      "text/plain": [
       "8"
      ]
     },
     "execution_count": 43,
     "metadata": {},
     "output_type": "execute_result"
    }
   ],
   "source": [
    "#Q1 Write Python function that takes two inputs\n",
    "#and return their sum value\n",
    "\n",
    "def sum(a,b):\n",
    "    c=a+b\n",
    "    return c\n",
    "\n",
    "x=sum(2,6)\n",
    "x"
   ]
  },
  {
   "cell_type": "code",
   "execution_count": 44,
   "id": "c9ae893b",
   "metadata": {},
   "outputs": [
    {
     "name": "stdout",
     "output_type": "stream",
     "text": [
      "What is the Temperature:29\n",
      "29 Degrees Celsius in Farenheit is: 84\n"
     ]
    }
   ],
   "source": [
    "#Q2 Write Python function the takes a celsius temprature\n",
    "#and converts it into fahrenheit\n",
    "\n",
    "def temp_convert(tempC):\n",
    "    tempF = (tempC*(9/5))+32\n",
    "    return tempF\n",
    "\n",
    "tempC = int(input('What is the Temperature:'))\n",
    "print(tempC,\"Degrees Celsius in Farenheit is: %d\" %temp_convert(tempC))"
   ]
  },
  {
   "cell_type": "code",
   "execution_count": 45,
   "id": "801a606a",
   "metadata": {},
   "outputs": [
    {
     "name": "stdout",
     "output_type": "stream",
     "text": [
      "180\n"
     ]
    }
   ],
   "source": [
    "#Q3 Write a Python function to find the Max of three numbers\n",
    "def max_of_three(a,b,c):\n",
    "    x = max(a,b,c)\n",
    "    return x\n",
    "\n",
    "print(max_of_three(180,54,7))"
   ]
  },
  {
   "cell_type": "code",
   "execution_count": 47,
   "id": "31d6d7eb",
   "metadata": {},
   "outputs": [
    {
     "name": "stdout",
     "output_type": "stream",
     "text": [
      "Enter a number to check:3\n",
      "Is 3 insde the range (5,12): False\n"
     ]
    }
   ],
   "source": [
    "#Q4 Write a Python function to check whether a number\n",
    "#is in a given range [5,12]\n",
    "\n",
    "def within_range(x):\n",
    "    if x in range(5,12):\n",
    "        return True\n",
    "    else:\n",
    "        return False\n",
    "\n",
    "x = int(input(\"Enter a number to check:\"))\n",
    "print(\"Is\", x, \"insde the range (5,12):\", within_range(x))"
   ]
  },
  {
   "cell_type": "code",
   "execution_count": 48,
   "id": "95bfd4d7",
   "metadata": {},
   "outputs": [
    {
     "name": "stdout",
     "output_type": "stream",
     "text": [
      "Enter a number to the list:2\n",
      "Enter a number to the list:3\n",
      "Enter a number to the list:4\n",
      "Enter a number to the list:6\n",
      "Enter a number to the list:2\n",
      "Enter a number to the list:2\n",
      "Enter a number to the list:4\n",
      "Enter a number to the list:6\n",
      "List of Values in x: [2, 2, 2, 3, 4, 4, 6, 6]\n",
      "Unique List of Values in x: [2, 3, 4, 6]\n"
     ]
    }
   ],
   "source": [
    "#Q5 Write a Python function that takes a list\n",
    "#and returns a new list with unique elements of the first\n",
    "Sample_List : [1,2,3,3,3,3,4,5]\n",
    "\n",
    "def unique_vals(l):\n",
    "    x=[]\n",
    "    for i in l:\n",
    "        if i not in x:\n",
    "            x.append(i)\n",
    "    return x\n",
    "\n",
    "x=[]\n",
    "while len(x)<8:\n",
    "    y = int(input(\"Enter a number to the list:\"))\n",
    "    x.append(y)\n",
    "x.sort()\n",
    "print(\"List of Values in x:\",x)\n",
    "\n",
    "print(\"Unique List of Values in x:\", unique_vals(x))    "
   ]
  },
  {
   "cell_type": "code",
   "execution_count": 55,
   "id": "d089f199",
   "metadata": {},
   "outputs": [
    {
     "name": "stdout",
     "output_type": "stream",
     "text": [
      "Enter a number to the list:88\n",
      "Enter a number to the list:22\n",
      "Enter a number to the list:44\n",
      "Enter a number to the list:55\n",
      "Enter a number to the list:88\n",
      "List of Values: [88, 22, 44, 55, 88]\n",
      "Are first and last numbers in the list the same: True\n"
     ]
    }
   ],
   "source": [
    "#Q6 Given a list of numbers, return True if first\n",
    "#and last number of a list is same\n",
    "#list1=[1,2,5,4,1]\n",
    "#list2=[5,6,3,2,1]\n",
    "#list3=[88,44,55,66,77,88]\n",
    "\n",
    "def same_num(l):\n",
    "    x=[]\n",
    "    for i in l:\n",
    "        x.append(i)\n",
    "    if x[0]==x[-1]:\n",
    "        return True\n",
    "    else:\n",
    "        return False\n",
    "    \n",
    "x=[]\n",
    "while len(x)<5:\n",
    "    y = int(input(\"Enter a number to the list:\"))\n",
    "    x.append(y)\n",
    "print(\"List of Values:\",x)\n",
    "\n",
    "print(\"Are first and last numbers in the list the same:\", same_num(x))    "
   ]
  },
  {
   "cell_type": "code",
   "execution_count": null,
   "id": "2baeb336",
   "metadata": {},
   "outputs": [],
   "source": []
  }
 ],
 "metadata": {
  "kernelspec": {
   "display_name": "Python 3 (ipykernel)",
   "language": "python",
   "name": "python3"
  },
  "language_info": {
   "codemirror_mode": {
    "name": "ipython",
    "version": 3
   },
   "file_extension": ".py",
   "mimetype": "text/x-python",
   "name": "python",
   "nbconvert_exporter": "python",
   "pygments_lexer": "ipython3",
   "version": "3.9.13"
  }
 },
 "nbformat": 4,
 "nbformat_minor": 5
}
