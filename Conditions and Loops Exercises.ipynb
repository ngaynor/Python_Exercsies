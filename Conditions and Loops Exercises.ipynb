{
 "cells": [
  {
   "cell_type": "code",
   "execution_count": 8,
   "id": "cef15c5f",
   "metadata": {},
   "outputs": [
    {
     "name": "stdout",
     "output_type": "stream",
     "text": [
      "False\n"
     ]
    }
   ],
   "source": [
    "#Q1 Given two integer numbers. If any of the numbers are greater than 50 return true\n",
    "number1= 20\n",
    "number2= 40\n",
    "\n",
    "if (number1>50 or number2>50):\n",
    "    print(True)\n",
    "else:\n",
    "    print(False)\n",
    "    "
   ]
  },
  {
   "cell_type": "code",
   "execution_count": 9,
   "id": "b4ef4476",
   "metadata": {},
   "outputs": [
    {
     "name": "stdout",
     "output_type": "stream",
     "text": [
      "False\n"
     ]
    }
   ],
   "source": [
    "#Q2 Given a list of numbers, return True if first and last number of a list is same\n",
    "list=[1,2,5,4,2] \n",
    "\n",
    "if list[0]==list[-1]:\n",
    "    print(True)\n",
    "else:\n",
    "    print(False)"
   ]
  },
  {
   "cell_type": "code",
   "execution_count": 14,
   "id": "3f55b84a",
   "metadata": {},
   "outputs": [
    {
     "name": "stdout",
     "output_type": "stream",
     "text": [
      "Current Number:0, Previous Number:0, Sum=0\n",
      "Current Number:1, Previous Number:0, Sum=1\n",
      "Current Number:2, Previous Number:1, Sum=3\n",
      "Current Number:3, Previous Number:2, Sum=5\n",
      "Current Number:4, Previous Number:3, Sum=7\n",
      "Current Number:5, Previous Number:4, Sum=9\n",
      "Current Number:6, Previous Number:5, Sum=11\n",
      "Current Number:7, Previous Number:6, Sum=13\n",
      "Current Number:8, Previous Number:7, Sum=15\n",
      "Current Number:9, Previous Number:8, Sum=17\n"
     ]
    }
   ],
   "source": [
    "#Q3 Given a range of the first 10 numbers[1:10], Iterate from the start number to\n",
    "#and In each iteration print the sum of the current number and previous number \n",
    "previousnum = 0\n",
    "for i in range(10):\n",
    "    currentnum = i\n",
    "    sum = previousnum + currentnum\n",
    "    print(\"Current Number:%d,\" %currentnum,\"Previous Number:%d,\" %previousnum,\"Sum=%d\" %sum)\n",
    "    previousnum = i"
   ]
  },
  {
   "cell_type": "code",
   "execution_count": 28,
   "id": "4dc2d441",
   "metadata": {},
   "outputs": [
    {
     "name": "stdout",
     "output_type": "stream",
     "text": [
      "N\n",
      "o\n",
      "e\n",
      "C\n",
      "n\n",
      "d\n"
     ]
    }
   ],
   "source": [
    "#Q4 Given a string name, display only those characters which are present at an even index \n",
    "name=\"NPowerCanada\" \n",
    "\n",
    "for i in name:\n",
    "    if (name.index(i)%2)==0:\n",
    "        print(i)\n",
    "    "
   ]
  },
  {
   "cell_type": "code",
   "execution_count": 19,
   "id": "bc29e818",
   "metadata": {},
   "outputs": [
    {
     "name": "stdout",
     "output_type": "stream",
     "text": [
      "nCourse\n"
     ]
    }
   ],
   "source": [
    "#Q5 Given a string oldString and an integer number n,  \n",
    "#remove characters from a string starting from zero up to n and return a newString\n",
    "\n",
    "oldString=\"PythonCourse\" \n",
    "n=5\n",
    "\n",
    "newString=\"\"\n",
    "for i in range(0, len(oldString)):\n",
    "    if i >= n:\n",
    "        newString = newString + oldString[i]\n",
    "\n",
    "print(newString)\n",
    "    "
   ]
  },
  {
   "cell_type": "code",
   "execution_count": 1,
   "id": "24917348",
   "metadata": {},
   "outputs": [
    {
     "name": "stdout",
     "output_type": "stream",
     "text": [
      "*\n",
      "**\n",
      "***\n",
      "****\n"
     ]
    }
   ],
   "source": [
    "#Q6 Print the follwoing pattern \n",
    "#* \n",
    "#** \n",
    "#*** \n",
    "#****\n",
    "\n",
    "for i in range(1,5):\n",
    "    print(i*'*')"
   ]
  },
  {
   "cell_type": "code",
   "execution_count": 20,
   "id": "75e8cc91",
   "metadata": {},
   "outputs": [
    {
     "name": "stdout",
     "output_type": "stream",
     "text": [
      "[60, 50, 70, 90]\n"
     ]
    }
   ],
   "source": [
    "#Q7 Reverse the following list using for loop \n",
    "list1=[90,70,50,60]\n",
    "\n",
    "#print(list1[::-1])\n",
    "list_reversed = []\n",
    "for i in list1:\n",
    "    list_reversed = [i] + list_reversed\n",
    "    \n",
    "print(list_reversed)"
   ]
  },
  {
   "cell_type": "code",
   "execution_count": 21,
   "id": "8d0fb6c2",
   "metadata": {},
   "outputs": [
    {
     "name": "stdout",
     "output_type": "stream",
     "text": [
      "-10\n",
      "-9\n",
      "-8\n",
      "-7\n",
      "-6\n",
      "-5\n",
      "-4\n",
      "-3\n",
      "-2\n",
      "-1\n"
     ]
    }
   ],
   "source": [
    "#Q8 Display numbers from -10 to -1 using for loop [hint use range method]\n",
    "\n",
    "for i in range(-10,0):\n",
    "    print(i)"
   ]
  },
  {
   "cell_type": "code",
   "execution_count": null,
   "id": "8281463e",
   "metadata": {},
   "outputs": [],
   "source": []
  }
 ],
 "metadata": {
  "kernelspec": {
   "display_name": "Python 3 (ipykernel)",
   "language": "python",
   "name": "python3"
  },
  "language_info": {
   "codemirror_mode": {
    "name": "ipython",
    "version": 3
   },
   "file_extension": ".py",
   "mimetype": "text/x-python",
   "name": "python",
   "nbconvert_exporter": "python",
   "pygments_lexer": "ipython3",
   "version": "3.9.13"
  }
 },
 "nbformat": 4,
 "nbformat_minor": 5
}
