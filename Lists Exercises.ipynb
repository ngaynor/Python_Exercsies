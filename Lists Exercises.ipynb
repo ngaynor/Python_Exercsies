{
 "cells": [
  {
   "cell_type": "code",
   "execution_count": 1,
   "id": "6ce478a4",
   "metadata": {},
   "outputs": [
    {
     "data": {
      "text/plain": [
       "('Abdul Wahid Khudayar',\n",
       " 'Addy Rose',\n",
       " 'Anuoluwapo Oluseyi',\n",
       " 'Aravindh Kuppusamy Haridoss',\n",
       " 'Carlo Halnin',\n",
       " 'Juned Chhiboo',\n",
       " 'Cici Ann Joji',\n",
       " 'DHRUVKUMAR PATEL',\n",
       " 'Erkan Kumesogut',\n",
       " 'Exaltacao Rodrigues',\n",
       " 'fatma tuncalan',\n",
       " 'harpreet kaur',\n",
       " 'Harun Omar-Godane',\n",
       " 'Hossain Ghahraloud',\n",
       " 'Jesso Thomas',\n",
       " 'Kamiar Mehmannavazan',\n",
       " 'Karthik Sai',\n",
       " 'Kwabena Gyasi-Boateng',\n",
       " 'L Reetika',\n",
       " 'mariya amtullah',\n",
       " 'Marwa Musa',\n",
       " 'Meelad Armani',\n",
       " 'Miguel Diaz',\n",
       " 'Mohammad Dabbour',\n",
       " 'Nathan Gaynor',\n",
       " 'Pouria Raziei',\n",
       " 'Reena Thakur',\n",
       " 'Robin Francis Thomas',\n",
       " 'Rohan Thomas',\n",
       " 'Ronit Soni',\n",
       " 'Sameeha Bala',\n",
       " 'Supriya Kanda',\n",
       " 'Weslie Chung',\n",
       " 'Ying Fei Li',\n",
       " 'Poojan Modi',\n",
       " 'Alexander Hailu',\n",
       " 'Ekaterina Shalygina',\n",
       " 'Nevin Tomy',\n",
       " 'Jason Huang',\n",
       " 'Anindita',\n",
       " 'Vrunda Patel',\n",
       " 'Sravan Pingali')"
      ]
     },
     "execution_count": 1,
     "metadata": {},
     "output_type": "execute_result"
    }
   ],
   "source": [
    "#Q1 Create a tuple with all participant names in the JDA program\n",
    "Tuple1 = (\"Abdul Wahid Khudayar\",\n",
    "\"Addy Rose\",\n",
    "\"Anuoluwapo Oluseyi\",\n",
    "\"Aravindh Kuppusamy Haridoss\",\n",
    "\"Carlo Halnin\",\n",
    "\"Juned Chhiboo\",\n",
    "\"Cici Ann Joji\",\n",
    "\"DHRUVKUMAR PATEL\",\n",
    "\"Erkan Kumesogut\",\n",
    "\"Exaltacao Rodrigues\",\n",
    "\"fatma tuncalan\",\n",
    "\"harpreet kaur\",\n",
    "\"Harun Omar-Godane\",\n",
    "\"Hossain Ghahraloud\",\n",
    "\"Jesso Thomas\",\n",
    "\"Kamiar Mehmannavazan\",\n",
    "\"Karthik Sai\",\n",
    "\"Kwabena Gyasi-Boateng\",\n",
    "\"L Reetika\",\n",
    "\"mariya amtullah\",\n",
    "\"Marwa Musa\",\n",
    "\"Meelad Armani\",\n",
    "\"Miguel Diaz\",\n",
    "\"Mohammad Dabbour\",\n",
    "\"Nathan Gaynor\",\n",
    "\"Pouria Raziei\",\n",
    "\"Reena Thakur\",\n",
    "\"Robin Francis Thomas\",\n",
    "\"Rohan Thomas\",\n",
    "\"Ronit Soni\",\n",
    "\"Sameeha Bala\",\n",
    "\"Supriya Kanda\",\n",
    "\"Weslie Chung\",\n",
    "\"Ying Fei Li\",\n",
    "\"Poojan Modi\",\n",
    "\"Alexander Hailu\",\n",
    "\"Ekaterina Shalygina\",\n",
    "\"Nevin Tomy\",\n",
    "\"Jason Huang\",\n",
    "\"Anindita\",\n",
    "\"Vrunda Patel\",\n",
    "\"Sravan Pingali\")\n",
    "Tuple1"
   ]
  },
  {
   "cell_type": "code",
   "execution_count": 3,
   "id": "6ef88895",
   "metadata": {},
   "outputs": [
    {
     "data": {
      "text/plain": [
       "['Abdul Wahid Khudayar',\n",
       " 'Addy Rose',\n",
       " 'Anuoluwapo Oluseyi',\n",
       " 'Aravindh Kuppusamy Haridoss',\n",
       " 'Carlo Halnin',\n",
       " 'Juned Chhiboo',\n",
       " 'Cici Ann Joji',\n",
       " 'DHRUVKUMAR PATEL',\n",
       " 'Erkan Kumesogut',\n",
       " 'Exaltacao Rodrigues',\n",
       " 'fatma tuncalan',\n",
       " 'harpreet kaur',\n",
       " 'Harun Omar-Godane',\n",
       " 'Hossain Ghahraloud',\n",
       " 'Jesso Thomas',\n",
       " 'Kamiar Mehmannavazan',\n",
       " 'Karthik Sai',\n",
       " 'Kwabena Gyasi-Boateng',\n",
       " 'L Reetika',\n",
       " 'mariya amtullah',\n",
       " 'Marwa Musa',\n",
       " 'Meelad Armani',\n",
       " 'Miguel Diaz',\n",
       " 'Mohammad Dabbour',\n",
       " 'Nathan Gaynor',\n",
       " 'Pouria Raziei',\n",
       " 'Reena Thakur',\n",
       " 'Robin Francis Thomas',\n",
       " 'Rohan Thomas',\n",
       " 'Ronit Soni',\n",
       " 'Sameeha Bala',\n",
       " 'Supriya Kanda',\n",
       " 'Weslie Chung',\n",
       " 'Ying Fei Li',\n",
       " 'Poojan Modi',\n",
       " 'Alexander Hailu',\n",
       " 'Ekaterina Shalygina',\n",
       " 'Nevin Tomy',\n",
       " 'Jason Huang',\n",
       " 'Anindita',\n",
       " 'Vrunda Patel',\n",
       " 'Sravan Pingali']"
      ]
     },
     "execution_count": 3,
     "metadata": {},
     "output_type": "execute_result"
    }
   ],
   "source": [
    "#Q2 Convert the tuple into a list called pps_L\n",
    "pps_L = list(Tuple1)\n",
    "pps_L"
   ]
  },
  {
   "cell_type": "code",
   "execution_count": 4,
   "id": "4dc08425",
   "metadata": {},
   "outputs": [
    {
     "data": {
      "text/plain": [
       "42"
      ]
     },
     "execution_count": 4,
     "metadata": {},
     "output_type": "execute_result"
    }
   ],
   "source": [
    "#Q3 What is the length of your list\n",
    "len(pps_L)"
   ]
  },
  {
   "cell_type": "code",
   "execution_count": 7,
   "id": "69458260",
   "metadata": {},
   "outputs": [
    {
     "name": "stdout",
     "output_type": "stream",
     "text": [
      "Aravindh Kuppusamy Haridoss\n",
      "Juned Chhiboo\n",
      "Jesso Thomas\n",
      "Sameeha Bala\n",
      "Jason Huang\n"
     ]
    }
   ],
   "source": [
    "#Q4 Find the values stored in indexes [3],[5],[14],[30],[38]\n",
    "print(pps_L[3])\n",
    "print(pps_L[5])\n",
    "print(pps_L[14])\n",
    "print(pps_L[30])\n",
    "print(pps_L[38])"
   ]
  },
  {
   "cell_type": "code",
   "execution_count": 8,
   "id": "5ae8db01",
   "metadata": {},
   "outputs": [
    {
     "data": {
      "text/plain": [
       "False"
      ]
     },
     "execution_count": 8,
     "metadata": {},
     "output_type": "execute_result"
    }
   ],
   "source": [
    "#Q5 Check if \"Sarah\" is in the list\n",
    "\"Sarah\" in pps_L"
   ]
  },
  {
   "cell_type": "code",
   "execution_count": 9,
   "id": "6b3258ed",
   "metadata": {},
   "outputs": [
    {
     "data": {
      "text/plain": [
       "['Abdul Wahid Khudayar',\n",
       " 'Addy Rose',\n",
       " 'Anuoluwapo Oluseyi',\n",
       " 'Aravindh Kuppusamy Haridoss',\n",
       " 'Carlo Halnin',\n",
       " 'Juned Chhiboo',\n",
       " 'Cici Ann Joji',\n",
       " 'DHRUVKUMAR PATEL',\n",
       " 'Erkan Kumesogut',\n",
       " 'Exaltacao Rodrigues',\n",
       " 'fatma tuncalan',\n",
       " 'harpreet kaur',\n",
       " 'Harun Omar-Godane',\n",
       " 'Hossain Ghahraloud',\n",
       " 'Jesso Thomas',\n",
       " 'Kamiar Mehmannavazan',\n",
       " 'Karthik Sai',\n",
       " 'Kwabena Gyasi-Boateng',\n",
       " 'L Reetika',\n",
       " 'mariya amtullah',\n",
       " 'Marwa Musa',\n",
       " 'Meelad Armani',\n",
       " 'Miguel Diaz',\n",
       " 'Mohammad Dabbour',\n",
       " 'Nathan Gaynor',\n",
       " 'Pouria Raziei',\n",
       " 'Reena Thakur',\n",
       " 'Robin Francis Thomas',\n",
       " 'Rohan Thomas',\n",
       " 'Ronit Soni',\n",
       " 'Sameeha Bala',\n",
       " 'Supriya Kanda',\n",
       " 'Weslie Chung',\n",
       " 'Ying Fei Li',\n",
       " 'Poojan Modi',\n",
       " 'Alexander Hailu',\n",
       " 'Ekaterina Shalygina',\n",
       " 'Nevin Tomy',\n",
       " 'Jason Huang',\n",
       " 'Anindita',\n",
       " 'Vrunda Patel',\n",
       " 'Sravan Pingali',\n",
       " 'Sarah']"
      ]
     },
     "execution_count": 9,
     "metadata": {},
     "output_type": "execute_result"
    }
   ],
   "source": [
    "#Q6 Add \"Sarah\" to your list\n",
    "pps_L.append(\"Sarah\")\n",
    "pps_L"
   ]
  },
  {
   "cell_type": "code",
   "execution_count": 12,
   "id": "fd1703e0",
   "metadata": {},
   "outputs": [
    {
     "data": {
      "text/plain": [
       "True"
      ]
     },
     "execution_count": 12,
     "metadata": {},
     "output_type": "execute_result"
    }
   ],
   "source": [
    "#Q7 Check if \"Bashir\" is in the list\n",
    "\"Bashir\" in pps_L"
   ]
  },
  {
   "cell_type": "code",
   "execution_count": 11,
   "id": "04bf3c2e",
   "metadata": {},
   "outputs": [],
   "source": [
    "#Q9 Add \"Bashir\" to your list\n",
    "pps_L.append(\"Bashir\")"
   ]
  },
  {
   "cell_type": "code",
   "execution_count": 14,
   "id": "c7c45ac5",
   "metadata": {},
   "outputs": [
    {
     "data": {
      "text/plain": [
       "42"
      ]
     },
     "execution_count": 14,
     "metadata": {},
     "output_type": "execute_result"
    }
   ],
   "source": [
    "#Q10 Find the index of the element \"Sarah\" in the list\n",
    "pps_L.index(\"Sarah\")"
   ]
  },
  {
   "cell_type": "code",
   "execution_count": 15,
   "id": "ad1ff52e",
   "metadata": {},
   "outputs": [
    {
     "name": "stdout",
     "output_type": "stream",
     "text": [
      "True\n"
     ]
    },
    {
     "data": {
      "text/plain": [
       "42"
      ]
     },
     "execution_count": 15,
     "metadata": {},
     "output_type": "execute_result"
    }
   ],
   "source": [
    "#Q11 Change the value of the index in Q10 from \"Sarah\" to \"Instructor\"\n",
    "pps_L[42]=\"Instructor\"\n",
    "print(\"Instructor\" in pps_L)\n",
    "pps_L.index(\"Instructor\")"
   ]
  },
  {
   "cell_type": "code",
   "execution_count": 16,
   "id": "76cb3aec",
   "metadata": {},
   "outputs": [
    {
     "data": {
      "text/plain": [
       "43"
      ]
     },
     "execution_count": 16,
     "metadata": {},
     "output_type": "execute_result"
    }
   ],
   "source": [
    "#Q12 Find the index of the element \"Bashir\" in the list\n",
    "pps_L.index(\"Bashir\")"
   ]
  },
  {
   "cell_type": "code",
   "execution_count": 17,
   "id": "daa78195",
   "metadata": {},
   "outputs": [
    {
     "name": "stdout",
     "output_type": "stream",
     "text": [
      "True\n"
     ]
    },
    {
     "data": {
      "text/plain": [
       "43"
      ]
     },
     "execution_count": 17,
     "metadata": {},
     "output_type": "execute_result"
    }
   ],
   "source": [
    "#Q13 Change the value of the index in Q12 from \"Bashir\" to \"Peer-Mentor\"\n",
    "pps_L[43]=\"Peer_Mentor\"\n",
    "print(\"Peer_Mentor\" in pps_L)\n",
    "pps_L.index(\"Peer_Mentor\")"
   ]
  },
  {
   "cell_type": "code",
   "execution_count": 18,
   "id": "232940b5",
   "metadata": {},
   "outputs": [
    {
     "data": {
      "text/plain": [
       "['Abdul Wahid Khudayar',\n",
       " 'Addy Rose',\n",
       " 'Anuoluwapo Oluseyi',\n",
       " 'Aravindh Kuppusamy Haridoss',\n",
       " 'Carlo Halnin',\n",
       " 'Juned Chhiboo',\n",
       " 'Cici Ann Joji',\n",
       " 'DHRUVKUMAR PATEL',\n",
       " 'Erkan Kumesogut',\n",
       " 'Exaltacao Rodrigues',\n",
       " 'fatma tuncalan',\n",
       " 'harpreet kaur',\n",
       " 'Harun Omar-Godane',\n",
       " 'Hossain Ghahraloud',\n",
       " 'Jesso Thomas',\n",
       " 'Kamiar Mehmannavazan',\n",
       " 'Karthik Sai',\n",
       " 'Kwabena Gyasi-Boateng',\n",
       " 'L Reetika',\n",
       " 'mariya amtullah',\n",
       " 'Marwa Musa',\n",
       " 'Meelad Armani',\n",
       " 'Miguel Diaz',\n",
       " 'Mohammad Dabbour',\n",
       " 'Nathan Gaynor',\n",
       " 'Pouria Raziei',\n",
       " 'Reena Thakur',\n",
       " 'Robin Francis Thomas',\n",
       " 'Rohan Thomas',\n",
       " 'Ronit Soni',\n",
       " 'Sameeha Bala',\n",
       " 'Supriya Kanda',\n",
       " 'Weslie Chung',\n",
       " 'Ying Fei Li',\n",
       " 'Poojan Modi',\n",
       " 'Alexander Hailu',\n",
       " 'Ekaterina Shalygina',\n",
       " 'Nevin Tomy',\n",
       " 'Jason Huang',\n",
       " 'Anindita',\n",
       " 'Vrunda Patel',\n",
       " 'Sravan Pingali',\n",
       " 'Instructor',\n",
       " 'Peer_Mentor']"
      ]
     },
     "execution_count": 18,
     "metadata": {},
     "output_type": "execute_result"
    }
   ],
   "source": [
    "pps_L"
   ]
  },
  {
   "cell_type": "code",
   "execution_count": null,
   "id": "3940d164",
   "metadata": {},
   "outputs": [],
   "source": []
  }
 ],
 "metadata": {
  "kernelspec": {
   "display_name": "Python 3 (ipykernel)",
   "language": "python",
   "name": "python3"
  },
  "language_info": {
   "codemirror_mode": {
    "name": "ipython",
    "version": 3
   },
   "file_extension": ".py",
   "mimetype": "text/x-python",
   "name": "python",
   "nbconvert_exporter": "python",
   "pygments_lexer": "ipython3",
   "version": "3.9.13"
  }
 },
 "nbformat": 4,
 "nbformat_minor": 5
}
