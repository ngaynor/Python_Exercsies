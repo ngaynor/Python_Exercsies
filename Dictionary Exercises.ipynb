{
 "cells": [
  {
   "cell_type": "code",
   "execution_count": 1,
   "id": "16d5e79a",
   "metadata": {},
   "outputs": [
    {
     "data": {
      "text/plain": [
       "{'NG': 'Nathan Gaynor',\n",
       " 'AWK': 'Abdul Wahid Khudayar',\n",
       " 'AR': 'Addy Rose',\n",
       " 'AO': 'Anuoluwapo Oluseyi',\n",
       " 'AKH': 'Aravindh Kuppusamy Haridoss',\n",
       " 'CH': 'Carlo Halnin',\n",
       " 'JC': 'Juned Chhiboo',\n",
       " 'CAJ': 'Cici Ann Joji',\n",
       " 'DP': 'DHRUVKUMAR PATEL',\n",
       " 'EK': 'Erkan Kumesogut',\n",
       " 'ER': 'Exaltacao Rodrigues',\n",
       " 'FT': 'fatma tuncalan',\n",
       " 'HK': 'harpreet kaur',\n",
       " 'HOG': 'Harun Omar-Godane',\n",
       " 'HG': 'Hossain Ghahraloud',\n",
       " 'JT': 'Jesso Thomas',\n",
       " 'KM': 'Kamiar Mehmannavazan',\n",
       " 'KS': 'Karthik Sai',\n",
       " 'KGB': 'Kwabena Gyasi-Boateng',\n",
       " 'LR': 'L Reetika',\n",
       " 'MA': 'Meelad Armani',\n",
       " 'MM': 'Marwa Musa',\n",
       " 'MD': 'Mohammad Dabbour',\n",
       " 'PR': 'Pouria Raziei',\n",
       " 'RT': 'Rohan Thomas',\n",
       " 'RFT': 'Robin Francis Thomas',\n",
       " 'RS': 'Ronit Soni',\n",
       " 'SB': 'Sameeha Bala',\n",
       " 'SK': 'Supriya Kanda',\n",
       " 'WC': 'Weslie Chung',\n",
       " 'YFL': 'Ying Fei Li',\n",
       " 'PM': 'Poojan Modi',\n",
       " 'AH': 'Alexander Hailu',\n",
       " 'ES': 'Ekaterina Shalygina',\n",
       " 'NT': 'Nevin Tomy',\n",
       " 'JH': 'Jason Huang',\n",
       " 'A': 'Anindita',\n",
       " 'VP': 'Vrunda Patel',\n",
       " 'SP': 'Sravan Pingali'}"
      ]
     },
     "execution_count": 1,
     "metadata": {},
     "output_type": "execute_result"
    }
   ],
   "source": [
    "#Q1 Create a dictionary for all participants in the JDA program.\n",
    "#Keys should be the first letter in their names, Values should be their names.\n",
    "#[Hint] dic={\"l\":(Leul),\"J\":(Jerry,Jainam)........}\n",
    "\n",
    "dic = {\n",
    "\"NG\":\"Nathan Gaynor\",\n",
    "\"AWK\":\"Abdul Wahid Khudayar\",\n",
    "\"AR\":\"Addy Rose\",\n",
    "\"AO\":\"Anuoluwapo Oluseyi\",\n",
    "\"AKH\":\"Aravindh Kuppusamy Haridoss\",\n",
    "\"CH\":\"Carlo Halnin\",\n",
    "\"JC\":\"Juned Chhiboo\",\n",
    "\"CAJ\":\"Cici Ann Joji\",\n",
    "\"DP\":\"DHRUVKUMAR PATEL\",\n",
    "\"EK\":\"Erkan Kumesogut\",\n",
    "\"ER\":\"Exaltacao Rodrigues\",\n",
    "\"FT\":\"fatma tuncalan\",\n",
    "\"HK\":\"harpreet kaur\",\n",
    "\"HOG\":\"Harun Omar-Godane\",\n",
    "\"HG\":\"Hossain Ghahraloud\",\n",
    "\"JT\":\"Jesso Thomas\",\n",
    "\"KM\":\"Kamiar Mehmannavazan\",\n",
    "\"KS\":\"Karthik Sai\",\n",
    "\"KGB\":\"Kwabena Gyasi-Boateng\",\n",
    "\"LR\":\"L Reetika\",\n",
    "\"MA\":\"mariya amtullah\",\n",
    "\"MM\":\"Marwa Musa\",\n",
    "\"MA\":\"Meelad Armani\",\n",
    "\"MD\":\"Miguel Diaz\",\n",
    "\"MD\":\"Mohammad Dabbour\",\n",
    "\"PR\":\"Pouria Raziei\",\n",
    "\"RT\":\"Reena Thakur\",\n",
    "\"RFT\":\"Robin Francis Thomas\",\n",
    "\"RT\":\"Rohan Thomas\",\n",
    "\"RS\":\"Ronit Soni\",\n",
    "\"SB\":\"Sameeha Bala\",\n",
    "\"SK\":\"Supriya Kanda\",\n",
    "\"WC\":\"Weslie Chung\",\n",
    "\"YFL\":\"Ying Fei Li\",\n",
    "\"PM\":\"Poojan Modi\",\n",
    "\"AH\":\"Alexander Hailu\",\n",
    "\"ES\":\"Ekaterina Shalygina\",\n",
    "\"NT\":\"Nevin Tomy\",\n",
    "\"JH\":\"Jason Huang\",\n",
    "\"A\":\"Anindita\",\n",
    "\"VP\":\"Vrunda Patel\",\n",
    "\"SP\":\"Sravan Pingali\"\n",
    "}\n",
    "dic"
   ]
  },
  {
   "cell_type": "code",
   "execution_count": 2,
   "id": "7d85c5fe",
   "metadata": {},
   "outputs": [
    {
     "data": {
      "text/plain": [
       "dict_keys(['NG', 'AWK', 'AR', 'AO', 'AKH', 'CH', 'JC', 'CAJ', 'DP', 'EK', 'ER', 'FT', 'HK', 'HOG', 'HG', 'JT', 'KM', 'KS', 'KGB', 'LR', 'MA', 'MM', 'MD', 'PR', 'RT', 'RFT', 'RS', 'SB', 'SK', 'WC', 'YFL', 'PM', 'AH', 'ES', 'NT', 'JH', 'A', 'VP', 'SP'])"
      ]
     },
     "execution_count": 2,
     "metadata": {},
     "output_type": "execute_result"
    }
   ],
   "source": [
    "#Q2 What are the keys of your dictionary\n",
    "dic.keys()"
   ]
  },
  {
   "cell_type": "code",
   "execution_count": 3,
   "id": "6318e289",
   "metadata": {},
   "outputs": [
    {
     "data": {
      "text/plain": [
       "dict_values(['Nathan Gaynor', 'Abdul Wahid Khudayar', 'Addy Rose', 'Anuoluwapo Oluseyi', 'Aravindh Kuppusamy Haridoss', 'Carlo Halnin', 'Juned Chhiboo', 'Cici Ann Joji', 'DHRUVKUMAR PATEL', 'Erkan Kumesogut', 'Exaltacao Rodrigues', 'fatma tuncalan', 'harpreet kaur', 'Harun Omar-Godane', 'Hossain Ghahraloud', 'Jesso Thomas', 'Kamiar Mehmannavazan', 'Karthik Sai', 'Kwabena Gyasi-Boateng', 'L Reetika', 'Meelad Armani', 'Marwa Musa', 'Mohammad Dabbour', 'Pouria Raziei', 'Rohan Thomas', 'Robin Francis Thomas', 'Ronit Soni', 'Sameeha Bala', 'Supriya Kanda', 'Weslie Chung', 'Ying Fei Li', 'Poojan Modi', 'Alexander Hailu', 'Ekaterina Shalygina', 'Nevin Tomy', 'Jason Huang', 'Anindita', 'Vrunda Patel', 'Sravan Pingali'])"
      ]
     },
     "execution_count": 3,
     "metadata": {},
     "output_type": "execute_result"
    }
   ],
   "source": [
    "#Q3 What are the values of your dictionary\n",
    "dic.values()"
   ]
  },
  {
   "cell_type": "code",
   "execution_count": 4,
   "id": "3774a74b",
   "metadata": {},
   "outputs": [
    {
     "data": {
      "text/plain": [
       "{'CH': 'Carlo Halnin',\n",
       " 'CAJ': 'Cici Ann Joji',\n",
       " 'AWK': 'Abdul Wahid Khudayar',\n",
       " 'AR': 'Addy Rose',\n",
       " 'AO': 'Anuoluwapo Oluseyi',\n",
       " 'AKH': 'Aravindh Kuppusamy Haridoss',\n",
       " 'AH': 'Alexander Hailu',\n",
       " 'A': 'Anindita',\n",
       " 'MA': 'Meelad Armani',\n",
       " 'MM': 'Marwa Musa',\n",
       " 'MD': 'Mohammad Dabbour',\n",
       " 'JC': 'Juned Chhiboo',\n",
       " 'JT': 'Jesso Thomas',\n",
       " 'JH': 'Jason Huang'}"
      ]
     },
     "execution_count": 4,
     "metadata": {},
     "output_type": "execute_result"
    }
   ],
   "source": [
    "#Q4 Find participant's names that start with J,I,M,C,A\n",
    "dic1 ={k: v for k, v in dic.items() if k.startswith(\"C\")}\n",
    "dic2 ={k: v for k, v in dic.items() if k.startswith(\"A\")}\n",
    "dic3={k: v for k, v in dic.items() if k.startswith(\"M\")}\n",
    "dic4={k: v for k, v in dic.items() if k.startswith(\"I\")}\n",
    "dic5={k: v for k, v in dic.items() if k.startswith(\"J\")}\n",
    "dic1.update(dic2)\n",
    "dic1.update(dic3)\n",
    "dic1.update(dic4)\n",
    "dic1.update(dic5)\n",
    "dic1"
   ]
  },
  {
   "cell_type": "code",
   "execution_count": 5,
   "id": "15ba1293",
   "metadata": {},
   "outputs": [
    {
     "data": {
      "text/plain": [
       "{'NG': 'Nathan Gaynor',\n",
       " 'AWK': 'Abdul Wahid Khudayar',\n",
       " 'AR': 'Addy Rose',\n",
       " 'AO': 'Anuoluwapo Oluseyi',\n",
       " 'AKH': 'Aravindh Kuppusamy Haridoss',\n",
       " 'CH': 'Carlo Halnin',\n",
       " 'JC': 'Juned Chhiboo',\n",
       " 'CAJ': 'Cici Ann Joji',\n",
       " 'DP': 'DHRUVKUMAR PATEL',\n",
       " 'EK': 'Erkan Kumesogut',\n",
       " 'ER': 'Exaltacao Rodrigues',\n",
       " 'FT': 'fatma tuncalan',\n",
       " 'HK': 'harpreet kaur',\n",
       " 'HOG': 'Harun Omar-Godane',\n",
       " 'HG': 'Hossain Ghahraloud',\n",
       " 'JT': 'Jesso Thomas',\n",
       " 'KM': 'Kamiar Mehmannavazan',\n",
       " 'KS': 'Karthik Sai',\n",
       " 'KGB': 'Kwabena Gyasi-Boateng',\n",
       " 'LR': 'L Reetika',\n",
       " 'MA': 'Meelad Armani',\n",
       " 'MM': 'Marwa Musa',\n",
       " 'MD': 'Mohammad Dabbour',\n",
       " 'PR': 'Pouria Raziei',\n",
       " 'RT': 'Rohan Thomas',\n",
       " 'RFT': 'Robin Francis Thomas',\n",
       " 'RS': 'Ronit Soni',\n",
       " 'SB': 'Sameeha Bala',\n",
       " 'SK': 'Supriya Kanda',\n",
       " 'WC': 'Weslie Chung',\n",
       " 'YFL': 'Ying Fei Li',\n",
       " 'PM': 'Poojan Modi',\n",
       " 'AH': 'Alexander Hailu',\n",
       " 'ES': 'Ekaterina Shalygina',\n",
       " 'NT': 'Nevin Tomy',\n",
       " 'JH': 'Jason Huang',\n",
       " 'A': 'Anindita',\n",
       " 'VP': 'Vrunda Patel',\n",
       " 'SP': 'Sravan Pingali',\n",
       " 'K,PD': 'Kristina'}"
      ]
     },
     "execution_count": 5,
     "metadata": {},
     "output_type": "execute_result"
    }
   ],
   "source": [
    "#Q5 Add the following to your dictionary\n",
    "# Key<(K,PD)>, Value<(Kristina)>\n",
    "\n",
    "dic_newitem = {\"K,PD\":\"Kristina\"}\n",
    "dic.update(dic_newitem)\n",
    "dic"
   ]
  },
  {
   "cell_type": "code",
   "execution_count": 6,
   "id": "55cbc786",
   "metadata": {},
   "outputs": [
    {
     "data": {
      "text/plain": [
       "40"
      ]
     },
     "execution_count": 6,
     "metadata": {},
     "output_type": "execute_result"
    }
   ],
   "source": [
    "#Q6 Find the length of your dictionary\n",
    "\n",
    "len(dic)"
   ]
  },
  {
   "cell_type": "code",
   "execution_count": 7,
   "id": "3d27cc3a",
   "metadata": {},
   "outputs": [
    {
     "data": {
      "text/plain": [
       "{'NG': 'Nathan Gaynor',\n",
       " 'AWK': 'Abdul Wahid Khudayar',\n",
       " 'AR': 'Addy Rose',\n",
       " 'AO': 'Anuoluwapo Oluseyi',\n",
       " 'AKH': 'Aravindh Kuppusamy Haridoss',\n",
       " 'CH': 'Carlo Halnin',\n",
       " 'JC': 'Juned Chhiboo',\n",
       " 'CAJ': 'Cici Ann Joji',\n",
       " 'DP': 'DHRUVKUMAR PATEL',\n",
       " 'EK': 'Erkan Kumesogut',\n",
       " 'ER': 'Exaltacao Rodrigues',\n",
       " 'FT': 'fatma tuncalan',\n",
       " 'HK': 'harpreet kaur',\n",
       " 'HOG': 'Harun Omar-Godane',\n",
       " 'HG': 'Hossain Ghahraloud',\n",
       " 'JT': 'Jesso Thomas',\n",
       " 'KM': 'Kamiar Mehmannavazan',\n",
       " 'KS': 'Karthik Sai',\n",
       " 'KGB': 'Kwabena Gyasi-Boateng',\n",
       " 'LR': 'L Reetika',\n",
       " 'MA': 'Meelad Armani',\n",
       " 'MM': 'Marwa Musa',\n",
       " 'MD': 'Mohammad Dabbour',\n",
       " 'PR': 'Pouria Raziei',\n",
       " 'RT': 'Rohan Thomas',\n",
       " 'RFT': 'Robin Francis Thomas',\n",
       " 'RS': 'Ronit Soni',\n",
       " 'SB': 'Sameeha Bala',\n",
       " 'SK': 'Supriya Kanda',\n",
       " 'WC': 'Weslie Chung',\n",
       " 'YFL': 'Ying Fei Li',\n",
       " 'PM': 'Poojan Modi',\n",
       " 'AH': 'Alexander Hailu',\n",
       " 'ES': 'Ekaterina Shalygina',\n",
       " 'NT': 'Nevin Tomy',\n",
       " 'JH': 'Jason Huang',\n",
       " 'A': 'Anindita',\n",
       " 'VP': 'Vrunda Patel',\n",
       " 'SP': 'Sravan Pingali',\n",
       " 'K,PD': 'Kristina',\n",
       " 'S,Instructor': 'Sarah'}"
      ]
     },
     "execution_count": 7,
     "metadata": {},
     "output_type": "execute_result"
    }
   ],
   "source": [
    "#Q7 Add the following to your dictionary\n",
    "# Key<(S,Instructor)>, Value<(Sarah)>\n",
    "\n",
    "dic_newitem = {\"S,Instructor\":\"Sarah\"}\n",
    "dic.update(dic_newitem)\n",
    "dic"
   ]
  },
  {
   "cell_type": "code",
   "execution_count": 8,
   "id": "5531c980",
   "metadata": {},
   "outputs": [
    {
     "data": {
      "text/plain": [
       "41"
      ]
     },
     "execution_count": 8,
     "metadata": {},
     "output_type": "execute_result"
    }
   ],
   "source": [
    "#Q8 Find the length of your dictionary\n",
    "\n",
    "len(dic)"
   ]
  },
  {
   "cell_type": "code",
   "execution_count": 9,
   "id": "60291bae",
   "metadata": {},
   "outputs": [
    {
     "data": {
      "text/plain": [
       "{'NG': 'Nathan Gaynor',\n",
       " 'AWK': 'Abdul Wahid Khudayar',\n",
       " 'AR': 'Addy Rose',\n",
       " 'AO': 'Anuoluwapo Oluseyi',\n",
       " 'AKH': 'Aravindh Kuppusamy Haridoss',\n",
       " 'CH': 'Carlo Halnin',\n",
       " 'JC': 'Juned Chhiboo',\n",
       " 'CAJ': 'Cici Ann Joji',\n",
       " 'DP': 'DHRUVKUMAR PATEL',\n",
       " 'EK': 'Erkan Kumesogut',\n",
       " 'ER': 'Exaltacao Rodrigues',\n",
       " 'FT': 'fatma tuncalan',\n",
       " 'HK': 'harpreet kaur',\n",
       " 'HOG': 'Harun Omar-Godane',\n",
       " 'HG': 'Hossain Ghahraloud',\n",
       " 'JT': 'Jesso Thomas',\n",
       " 'KM': 'Kamiar Mehmannavazan',\n",
       " 'KS': 'Karthik Sai',\n",
       " 'KGB': 'Kwabena Gyasi-Boateng',\n",
       " 'LR': 'L Reetika',\n",
       " 'MA': 'Meelad Armani',\n",
       " 'MM': 'Marwa Musa',\n",
       " 'MD': 'Mohammad Dabbour',\n",
       " 'PR': 'Pouria Raziei',\n",
       " 'RT': 'Rohan Thomas',\n",
       " 'RFT': 'Robin Francis Thomas',\n",
       " 'RS': 'Ronit Soni',\n",
       " 'SB': 'Sameeha Bala',\n",
       " 'SK': 'Supriya Kanda',\n",
       " 'WC': 'Weslie Chung',\n",
       " 'YFL': 'Ying Fei Li',\n",
       " 'PM': 'Poojan Modi',\n",
       " 'AH': 'Alexander Hailu',\n",
       " 'ES': 'Ekaterina Shalygina',\n",
       " 'NT': 'Nevin Tomy',\n",
       " 'JH': 'Jason Huang',\n",
       " 'A': 'Anindita',\n",
       " 'VP': 'Vrunda Patel',\n",
       " 'SP': 'Sravan Pingali',\n",
       " 'K,PD': 'Kristina'}"
      ]
     },
     "execution_count": 9,
     "metadata": {},
     "output_type": "execute_result"
    }
   ],
   "source": [
    "#Q7 Delete the following keys from your dictionary\n",
    "#Key<(S,Instructor)>\n",
    "#Key<J>\n",
    "\n",
    "del dic[\"S,Instructor\"]\n",
    "dic"
   ]
  },
  {
   "cell_type": "code",
   "execution_count": 10,
   "id": "9aabd7fd",
   "metadata": {},
   "outputs": [
    {
     "data": {
      "text/plain": [
       "40"
      ]
     },
     "execution_count": 10,
     "metadata": {},
     "output_type": "execute_result"
    }
   ],
   "source": [
    "#Q9 Find the length of your dictionary\n",
    "len(dic)"
   ]
  },
  {
   "cell_type": "code",
   "execution_count": 11,
   "id": "02a3d939",
   "metadata": {},
   "outputs": [],
   "source": [
    "#Q10 Create a new dictionary called synonyms_dic\n",
    "\n",
    "synonyms_dict = {\" \":\" \"}"
   ]
  },
  {
   "cell_type": "code",
   "execution_count": 12,
   "id": "a0c64309",
   "metadata": {},
   "outputs": [
    {
     "data": {
      "text/plain": [
       "{'Bad': 'Poor',\n",
       " 'Good': 'Fine',\n",
       " 'Awesome': 'Amazing',\n",
       " 'Cold': 'Chilly',\n",
       " 'Easy': 'Simple',\n",
       " 'Hard': 'Firm',\n",
       " 'Big': 'Huge',\n",
       " 'Small': 'Tiny'}"
      ]
     },
     "execution_count": 12,
     "metadata": {},
     "output_type": "execute_result"
    }
   ],
   "source": [
    "#Q11 Add the synonyms of the following words to your dictionary\n",
    "#Bad, Good, Awesome, Cold, Easy, Hard, Big, Small\n",
    "\n",
    "synonyms_dict = {'Bad':'Poor', 'Good':'Fine', 'Awesome':'Amazing', 'Cold':'Chilly', 'Easy':'Simple',\n",
    "                 'Hard':'Firm', 'Big':'Huge', 'Small':'Tiny'}\n",
    "synonyms_dict"
   ]
  },
  {
   "cell_type": "code",
   "execution_count": 13,
   "id": "44f3fcb8",
   "metadata": {},
   "outputs": [
    {
     "data": {
      "text/plain": [
       "8"
      ]
     },
     "execution_count": 13,
     "metadata": {},
     "output_type": "execute_result"
    }
   ],
   "source": [
    "len(synonyms_dict)"
   ]
  },
  {
   "cell_type": "code",
   "execution_count": 14,
   "id": "e576e683",
   "metadata": {},
   "outputs": [
    {
     "name": "stdout",
     "output_type": "stream",
     "text": [
      "Amazing\n",
      "Simple\n",
      "Tiny\n",
      "None\n"
     ]
    }
   ],
   "source": [
    "#Q12 Use your dictionary to find the synonym of the following words\n",
    "# Awesome, Easy, Small, Old\n",
    "\n",
    "print(synonyms_dict.get(\"Awesome\"))\n",
    "print(synonyms_dict.get(\"Easy\"))\n",
    "print(synonyms_dict.get(\"Small\"))\n",
    "print(synonyms_dict.get(\"Old\"))"
   ]
  },
  {
   "cell_type": "code",
   "execution_count": 15,
   "id": "af717e05",
   "metadata": {},
   "outputs": [],
   "source": [
    "#Q13 Delete everything from synonyms_dic\n",
    "\n",
    "synonyms_dict.clear()"
   ]
  },
  {
   "cell_type": "code",
   "execution_count": 16,
   "id": "bf4b37f4",
   "metadata": {},
   "outputs": [
    {
     "name": "stdout",
     "output_type": "stream",
     "text": [
      "dict_values([])\n"
     ]
    }
   ],
   "source": [
    "#Q14 Print all values in synonyms_dic\n",
    "print(synonyms_dict.values())"
   ]
  },
  {
   "cell_type": "code",
   "execution_count": 18,
   "id": "92eaca53",
   "metadata": {},
   "outputs": [
    {
     "name": "stdout",
     "output_type": "stream",
     "text": [
      "{'True': 1, 'False': 0}\n"
     ]
    }
   ],
   "source": [
    "#Q15 Convert the below two lists into dictionary\n",
    "Keys=[\"True\",\"False\"]\n",
    "Values=[1,0]\n",
    "\n",
    "dictionary = dict(zip(Keys, Values))\n",
    "\n",
    "print(dictionary)"
   ]
  },
  {
   "cell_type": "code",
   "execution_count": 19,
   "id": "d0f07098",
   "metadata": {},
   "outputs": [
    {
     "name": "stdout",
     "output_type": "stream",
     "text": [
      "dict_values([1000, 1500, 980, 1000])\n"
     ]
    },
    {
     "data": {
      "text/plain": [
       "4480"
      ]
     },
     "execution_count": 19,
     "metadata": {},
     "output_type": "execute_result"
    }
   ],
   "source": [
    "#Q16 Sum all the values in the following dictionary\n",
    "income={'Jan':1000,'Feb':1500,'Mar':980,'April':1000}\n",
    "\n",
    "print(income.values())\n",
    "sum(income.values())"
   ]
  },
  {
   "cell_type": "code",
   "execution_count": 20,
   "id": "dbcc97cb",
   "metadata": {},
   "outputs": [
    {
     "name": "stdout",
     "output_type": "stream",
     "text": [
      "encryption word of 110 is I\n",
      "encryption word of 101 is am\n",
      "encryption word of 10 is hungry\n",
      "encryption word of 1011 is and\n",
      "encryption word of 110 is I\n",
      "encryption word of 1001 is want\n",
      "encryption word of 1101 is food\n",
      "encryption word of 11011 is now\n"
     ]
    }
   ],
   "source": [
    "#Q17 Create the following dictionary encryption={10:\"hungry\", 101:\"am\", 110:\"I\",1011:\" \" 110:\" \" 1001:\" \" 1:\" \"}\n",
    "# What should be the decryption of the following code \"110 101 10 1011 110 1001 1\"\n",
    "\n",
    "encryption={10:\"hungry\", 101:\"am\", 1001:\"want\",1101:\"food\",110:\"I\",1011:\"and\", 11011:\"now\"}\n",
    "keys = [ 110, 101, 10, 1011, 110, 1001, 1101, 11011]\n",
    "\n",
    "for key in keys:\n",
    "    print(\"encryption word of {} is\".format(key) + \" \" + encryption[key])"
   ]
  },
  {
   "cell_type": "code",
   "execution_count": null,
   "id": "56cd827e",
   "metadata": {},
   "outputs": [],
   "source": []
  }
 ],
 "metadata": {
  "kernelspec": {
   "display_name": "Python 3 (ipykernel)",
   "language": "python",
   "name": "python3"
  },
  "language_info": {
   "codemirror_mode": {
    "name": "ipython",
    "version": 3
   },
   "file_extension": ".py",
   "mimetype": "text/x-python",
   "name": "python",
   "nbconvert_exporter": "python",
   "pygments_lexer": "ipython3",
   "version": "3.9.13"
  }
 },
 "nbformat": 4,
 "nbformat_minor": 5
}
