{
 "cells": [
  {
   "cell_type": "code",
   "execution_count": 22,
   "id": "adbd609e",
   "metadata": {},
   "outputs": [
    {
     "name": "stdout",
     "output_type": "stream",
     "text": [
      "Enter the URL of the HTML document: http://help.websiteos.com/websiteos/example_of_a_simple_html_page.htm\n",
      "Title tags found in the HTML document:\n",
      "Example of a simple HTML page\n"
     ]
    }
   ],
   "source": [
    "#Write a Python program to find the title tags from a given html document\n",
    "import requests\n",
    "from bs4 import BeautifulSoup\n",
    "\n",
    "# html = requests.get(\"http://help.websiteos.com/websiteos/example_of_a_simple_html_page.htm\")\n",
    "# soup = BeautifulSoup(html.content, \"html.parser\")\n",
    "\n",
    "# print(soup.title)\n",
    "\n",
    "url = input(\"Enter the URL of the HTML document: \")\n",
    "response = requests.get(url)\n",
    "soup = BeautifulSoup(response.content, \"html.parser\")\n",
    "\n",
    "titles = soup.find_all(\"title\")\n",
    "\n",
    "if len(titles) > 0:\n",
    "    print(\"Title tags found in the HTML document:\")\n",
    "    for title in titles:\n",
    "        print(title.text)\n",
    "else:\n",
    "    print(\"No title tags found in the HTML document.\")"
   ]
  },
  {
   "cell_type": "code",
   "execution_count": 23,
   "id": "90b7e3b8",
   "metadata": {},
   "outputs": [
    {
     "name": "stdout",
     "output_type": "stream",
     "text": [
      "Number of paragraph tags is: 27\n"
     ]
    }
   ],
   "source": [
    "#Write a Python program to get the number of paragraph tags of a given html document.\n",
    "print(\"Number of paragraph tags is:\", len(soup.find_all(\"p\")))"
   ]
  },
  {
   "cell_type": "code",
   "execution_count": 24,
   "id": "2f46711c",
   "metadata": {},
   "outputs": [
    {
     "name": "stdout",
     "output_type": "stream",
     "text": [
      "The text in the first paragraph tag in given html document:\n"
     ]
    },
    {
     "data": {
      "text/plain": [
       "<p>Hypertext Markup Language (HTML) is the most common language used to \n",
       " create documents on the World Wide Web. HTML uses hundreds of different \n",
       " tags to define a layout for web pages. Most tags require an opening &lt;tag&gt; \n",
       " and a closing &lt;/tag&gt;.</p>"
      ]
     },
     "execution_count": 24,
     "metadata": {},
     "output_type": "execute_result"
    }
   ],
   "source": [
    "#Write a Python program to extract the text in the first paragraph tag of a given html document.\n",
    "print(\"The text in the first paragraph tag in given html document:\")\n",
    "soup.find_all('p')[0]"
   ]
  },
  {
   "cell_type": "code",
   "execution_count": 34,
   "id": "c96f9546",
   "metadata": {},
   "outputs": [
    {
     "name": "stdout",
     "output_type": "stream",
     "text": [
      "['/', 'https://www.python.org/psf/', 'https://docs.python.org', 'https://pypi.org/', '/jobs/', '/community-landing/', '#', 'javascript:;', 'javascript:;', 'javascript:;', '#', 'https://www.facebook.com/pythonlang?fref=ts', 'https://twitter.com/ThePSF', '/community/irc/', '/about/', '/about/apps/', '/about/quotes/', '/about/gettingstarted/', '/about/help/', 'http://brochure.getpython.info/', '/downloads/', '/downloads/', '/downloads/source/', '/downloads/windows/', '/downloads/macos/', '/download/other/', 'https://docs.python.org/3/license.html', '/download/alternatives', '/doc/', '/doc/', '/doc/av', 'https://wiki.python.org/moin/BeginnersGuide', 'https://devguide.python.org/', 'https://docs.python.org/faq/', 'http://wiki.python.org/moin/Languages', 'http://python.org/dev/peps/', 'https://wiki.python.org/moin/PythonBooks', '/doc/essays/', '/community/', '/community/diversity/', '/community/lists/', '/community/irc/', '/community/forums/', '/psf/annual-report/2021/', '/community/workshops/', '/community/sigs/', '/community/logos/', 'https://wiki.python.org/moin/', '/psf/conduct/', '/community/awards', '/psf/get-involved/', '/psf/community-stories/', '/success-stories/', '/success-stories/category/arts/', '/success-stories/category/business/', '/success-stories/category/education/', '/success-stories/category/engineering/', '/success-stories/category/government/', '/success-stories/category/scientific/', '/success-stories/category/software-development/', '/blogs/', '/blogs/', '/psf/newsletter/', 'http://pyfound.blogspot.com/', 'http://pycon.blogspot.com/', 'http://planetpython.org/', '/events/', '/events/python-events/', '/events/python-user-group/', '/events/python-events/past/', '/events/python-user-group/past/', 'https://wiki.python.org/moin/PythonEventsCalendar#Submitting_an_Event', '/shell/', '//docs.python.org/3/tutorial/controlflow.html#defining-functions', '//docs.python.org/3/tutorial/introduction.html#lists', 'http://docs.python.org/3/tutorial/introduction.html#using-python-as-a-calculator', '//docs.python.org/3/tutorial/controlflow.html', '//docs.python.org/3/tutorial/', 'https://pythoninsider.blogspot.com/2023/03/python-3120-alpha-6-released.html', 'https://pyfound.blogspot.com/2023/02/the-case-for-second-developer-in.html', 'https://pyfound.blogspot.com/2023/02/python-packaging-strategy-discussion.html', 'https://pythoninsider.blogspot.com/2023/02/python-3112-python-31010-and-3120-alpha.html', 'https://pyfound.blogspot.com/2023/02/announcing-python-software-foundation.html', '/events/python-user-group/1431/', '/events/python-events/1436/', '/events/python-user-group/1435/', '/events/python-events/1380/', '/events/python-events/1145/', 'http://www.djangoproject.com/', 'http://wiki.python.org/moin/TkInter', 'http://www.scipy.org', 'http://buildbot.net/', 'http://www.ansible.com', '/about/', '/about/apps/', '/about/quotes/', '/about/gettingstarted/', '/about/help/', 'http://brochure.getpython.info/', '/downloads/', '/downloads/', '/downloads/source/', '/downloads/windows/', '/downloads/macos/', '/download/other/', 'https://docs.python.org/3/license.html', '/download/alternatives', '/doc/', '/doc/', '/doc/av', 'https://wiki.python.org/moin/BeginnersGuide', 'https://devguide.python.org/', 'https://docs.python.org/faq/', 'http://wiki.python.org/moin/Languages', 'http://python.org/dev/peps/', 'https://wiki.python.org/moin/PythonBooks', '/doc/essays/', '/community/', '/community/diversity/', '/community/lists/', '/community/irc/', '/community/forums/', '/psf/annual-report/2021/', '/community/workshops/', '/community/sigs/', '/community/logos/', 'https://wiki.python.org/moin/', '/psf/conduct/', '/community/awards', '/psf/get-involved/', '/psf/community-stories/', '/success-stories/', '/success-stories/category/arts/', '/success-stories/category/business/', '/success-stories/category/education/', '/success-stories/category/engineering/', '/success-stories/category/government/', '/success-stories/category/scientific/', '/success-stories/category/software-development/', '/blogs/', '/blogs/', '/psf/newsletter/', 'http://pyfound.blogspot.com/', 'http://pycon.blogspot.com/', 'http://planetpython.org/', '/events/', '/events/python-events/', '/events/python-user-group/', '/events/python-events/past/', '/events/python-user-group/past/', 'https://wiki.python.org/moin/PythonEventsCalendar#Submitting_an_Event', '/dev/', 'https://devguide.python.org/', 'https://bugs.python.org/', 'https://mail.python.org/mailman/listinfo/python-dev', '/dev/core-mentorship/', '/dev/security/', '/about/help/', '/community/diversity/', 'https://github.com/python/pythondotorg/issues', 'https://status.python.org/']\n"
     ]
    }
   ],
   "source": [
    "#Write a Python program to extract all the URLs from the webpage python.org that are nested within <li> tags from\n",
    "import requests\n",
    "from bs4 import BeautifulSoup\n",
    "\n",
    "url = \"https://www.python.org/\"\n",
    "html = requests.get(url)\n",
    "soup = BeautifulSoup(html.text, \"html.parser\")\n",
    "\n",
    "urls = []\n",
    "for i in soup.find_all('li'):\n",
    "    link = i.find('a')\n",
    "    if link is not None:\n",
    "        href = link.get('href')\n",
    "#         if href.startswith(\"http\"):\n",
    "#             urls.append(href)\n",
    "        urls.append(href)\n",
    "print(urls)"
   ]
  },
  {
   "cell_type": "code",
   "execution_count": 42,
   "id": "cc4db0f4",
   "metadata": {},
   "outputs": [
    {
     "name": "stdout",
     "output_type": "stream",
     "text": [
      "Enter the URL of the Web Page: http://help.websiteos.com/websiteos/example_of_a_simple_html_page.htm\n",
      "The text from the given Web Page:\n",
      "\n",
      "\n",
      "\n",
      "\n",
      "\n",
      "Example of a simple HTML page\n",
      "\n",
      "\n",
      "\n",
      "\n",
      "\n",
      "\n",
      "\n",
      "\n",
      "\n",
      "\n",
      "\n",
      "Example of a simple HTML page\n",
      "Hypertext Markup Language (HTML) is the most common language used to \n",
      " create documents on the World Wide Web. HTML uses hundreds of different \n",
      " tags to define a layout for web pages. Most tags require an opening <tag> \n",
      " and a closing </tag>.\n",
      "Example:  <b>On \n",
      " a webpage, this sentence would be in bold print.</b> \n",
      "Below is an example of a very simple page: \n",
      "\n",
      " This \n",
      " is the code used to make the page: \n",
      "<HTML> \n",
      "<HEAD> \n",
      "<TITLE>Your Title Here</TITLE> \n",
      " \n",
      "</HEAD> \n",
      "<BODY BGCOLOR=\"FFFFFF\"> \n",
      " \n",
      "<CENTER><IMG SRC=\"clouds.jpg\" \n",
      " ALIGN=\"BOTTOM\"> </CENTER> \n",
      "<HR> \n",
      "<a href=\"http://somegreatsite.com\">Link \n",
      " Name</a> \n",
      "is a link to another nifty site \n",
      "<H1>This is a Header</H1> \n",
      "<H2>This is a Medium Header</H2> \n",
      " \n",
      "Send me mail at <a href=\"mailto:support@yourcompany.com\">\n",
      "support@yourcompany.com</a>. \n",
      "<P> This is a new paragraph! \n",
      "<P> <B>This is a new paragraph!</B> \n",
      " \n",
      "<BR> <B><I>This is a new \n",
      " sentence without a paragraph break, in bold italics.</I></B> \n",
      " \n",
      "<HR> \n",
      "</BODY> \n",
      "</HTML> \n",
      " \n",
      " \n",
      " \n",
      "\n",
      "\n",
      "\n",
      "\n",
      "\n",
      "\n",
      "\n",
      "\n"
     ]
    }
   ],
   "source": [
    "#Write a Python program to extract all the text from a given web page.\n",
    "import requests\n",
    "from bs4 import BeautifulSoup\n",
    "\n",
    "url = input(\"Enter the URL of the Web Page: \")\n",
    "html = requests.get(url)\n",
    "soup = BeautifulSoup(html.text, \"html.parser\")\n",
    "\n",
    "print(\"The text from the given Web Page:\")\n",
    "print(soup.get_text())\n"
   ]
  },
  {
   "cell_type": "code",
   "execution_count": 46,
   "id": "5c6d00e9",
   "metadata": {},
   "outputs": [
    {
     "name": "stdout",
     "output_type": "stream",
     "text": [
      "Give a URL to review: https://en.wikipedia.org/wiki/Wiki\n",
      "Title: <title>Wiki - Wikipedia</title>\n",
      "Title text: Wiki - Wikipedia\n",
      "Parent content of the Title text:\n",
      "<head>\n",
      "<meta charset=\"utf-8\"/>\n",
      "<title>Wiki - Wikipedia</title>\n",
      "<script>document.documentElement.className=\"client-js vector-feature-language-in-header-enabled vector-feature-language-in-main-page-header-disabled vector-feature-language-alert-in-sidebar-enabled vector-feature-sticky-header-disabled vector-feature-page-tools-disabled vector-feature-page-tools-pinned-disabled vector-feature-toc-pinned-enabled vector-feature-main-menu-pinned-disabled vector-feature-limited-width-enabled vector-feature-limited-width-content-enabled\";(function(){var cookie=document.cookie.match(/(?:^|; )enwikimwclientprefs=([^;]+)/);if(cookie){var featureName=cookie[1];document.documentElement.className=document.documentElement.className.replace(featureName+'-enabled',featureName+'-disabled');}}());RLCONF={\"wgBreakFrames\":false,\"wgSeparatorTransformTable\":[\"\",\"\"],\"wgDigitTransformTable\":[\"\",\"\"],\"wgDefaultDateFormat\":\"dmy\",\"wgMonthNames\":[\"\",\"January\",\"February\",\"March\",\"April\",\"May\",\"June\",\"July\",\"August\",\"September\",\"October\",\"November\",\"December\"],\"wgRequestId\":\n",
      "\"583ce163-8d19-4705-913f-3ef12e04ff3d\",\"wgCSPNonce\":false,\"wgCanonicalNamespace\":\"\",\"wgCanonicalSpecialPageName\":false,\"wgNamespaceNumber\":0,\"wgPageName\":\"Wiki\",\"wgTitle\":\"Wiki\",\"wgCurRevisionId\":1144766892,\"wgRevisionId\":1144766892,\"wgArticleId\":32851,\"wgIsArticle\":true,\"wgIsRedirect\":false,\"wgAction\":\"view\",\"wgUserName\":null,\"wgUserGroups\":[\"*\"],\"wgCategories\":[\"Webarchive template wayback links\",\"CS1 maint: archived copy as title\",\"CS1 errors: missing periodical\",\"Pages containing links to subscription-only content\",\"CS1: long volume value\",\"Articles with short description\",\"Short description matches Wikidata\",\"Wikipedia indefinitely semi-protected pages\",\"Wikipedia indefinitely move-protected pages\",\"Use mdy dates from July 2019\",\"Articles with hAudio microformats\",\"Pages including recorded pronunciations\",\"Articles containing potentially dated statements from February 2020\",\"All articles containing potentially dated statements\",\n",
      "\"Articles needing additional references from March 2017\",\"All articles needing additional references\",\"Wikipedia articles needing page number citations from October 2022\",\"All articles needing examples\",\"Articles needing examples from August 2018\",\"All articles with unsourced statements\",\"Articles with unsourced statements from July 2013\",\"Articles with unsourced statements from April 2020\",\"All articles lacking reliable references\",\"Articles lacking reliable references from July 2013\",\"Wikipedia articles in need of updating from July 2013\",\"All Wikipedia articles in need of updating\",\"Pages using Sister project links with wikidata namespace mismatch\",\"Pages using Sister project links with hidden wikidata\",\"Pages using Sister project links with default search\",\"Spoken articles\",\"Articles with Curlie links\",\"Articles with FAST identifiers\",\"Articles with BNF identifiers\",\"Articles with BNFdata identifiers\",\"Articles with GND identifiers\",\"Articles with J9U identifiers\",\n",
      "\"Articles with LCCN identifiers\",\"Articles with NKC identifiers\",\"Articles containing video clips\",\"Wikis\",\"Hawaiian words and phrases\",\"Hypertext\",\"Self-organization\",\"Social information processing\"],\"wgPageContentLanguage\":\"en\",\"wgPageContentModel\":\"wikitext\",\"wgRelevantPageName\":\"Wiki\",\"wgRelevantArticleId\":32851,\"wgIsProbablyEditable\":false,\"wgRelevantPageIsProbablyEditable\":false,\"wgRestrictionEdit\":[\"autoconfirmed\"],\"wgRestrictionMove\":[\"sysop\"],\"wgFlaggedRevsParams\":{\"tags\":{\"status\":{\"levels\":1}}},\"wgVisualEditor\":{\"pageLanguageCode\":\"en\",\"pageLanguageDir\":\"ltr\",\"pageVariantFallbacks\":\"en\"},\"wgMFDisplayWikibaseDescriptions\":{\"search\":true,\"watchlist\":true,\"tagline\":false,\"nearby\":true},\"wgWMESchemaEditAttemptStepOversample\":false,\"wgWMEPageLength\":60000,\"wgNoticeProject\":\"wikipedia\",\"wgVector2022PreviewPages\":[],\"wgMediaViewerOnClick\":true,\"wgMediaViewerEnabledByDefault\":true,\"wgPopupsFlags\":10,\"wgULSCurrentAutonym\":\"English\",\"wgEditSubmitButtonLabelPublish\":true,\n",
      "\"wgCentralAuthMobileDomain\":false,\"wgULSPosition\":\"interlanguage\",\"wgULSisCompactLinksEnabled\":true,\"wgULSisLanguageSelectorEmpty\":false,\"wgWikibaseItemId\":\"Q171\",\"GEHomepageSuggestedEditsEnableTopics\":true,\"wgGETopicsMatchModeEnabled\":false,\"wgGEStructuredTaskRejectionReasonTextInputEnabled\":false};RLSTATE={\"skins.vector.user.styles\":\"ready\",\"ext.globalCssJs.user.styles\":\"ready\",\"site.styles\":\"ready\",\"user.styles\":\"ready\",\"skins.vector.user\":\"ready\",\"ext.globalCssJs.user\":\"ready\",\"user\":\"ready\",\"user.options\":\"loading\",\"ext.cite.styles\":\"ready\",\"ext.pygments\":\"ready\",\"ext.tmh.player.styles\":\"ready\",\"mediawiki.ui.button\":\"ready\",\"skins.vector.styles\":\"ready\",\"skins.vector.icons\":\"ready\",\"mediawiki.ui.icon\":\"ready\",\"jquery.makeCollapsible.styles\":\"ready\",\"ext.visualEditor.desktopArticleTarget.noscript\":\"ready\",\"ext.wikimediaBadges\":\"ready\",\"ext.uls.interlanguage\":\"ready\",\"wikibase.client.init\":\"ready\"};RLPAGEMODULES=[\"ext.cite.ux-enhancements\",\"ext.tmh.player\",\"ext.scribunto.logs\",\n",
      "\"site\",\"mediawiki.page.ready\",\"jquery.makeCollapsible\",\"mediawiki.toc\",\"skins.vector.js\",\"skins.vector.es6\",\"mmv.head\",\"mmv.bootstrap.autostart\",\"ext.visualEditor.desktopArticleTarget.init\",\"ext.visualEditor.targetLoader\",\"ext.eventLogging\",\"ext.wikimediaEvents\",\"ext.navigationTiming\",\"ext.cx.eventlogging.campaigns\",\"ext.centralNotice.geoIP\",\"ext.centralNotice.startUp\",\"ext.gadget.ReferenceTooltips\",\"ext.gadget.charinsert\",\"ext.gadget.extra-toolbar-buttons\",\"ext.gadget.switcher\",\"ext.centralauth.centralautologin\",\"ext.popups\",\"ext.echo.centralauth\",\"ext.uls.compactlinks\",\"ext.uls.interface\",\"ext.cx.uls.quick.actions\",\"wikibase.client.vector-2022\",\"ext.growthExperiments.SuggestedEditSession\"];</script>\n",
      "<script>(RLQ=window.RLQ||[]).push(function(){mw.loader.implement(\"user.options@12s5i\",function($,jQuery,require,module){mw.user.tokens.set({\"patrolToken\":\"+\\\\\",\"watchToken\":\"+\\\\\",\"csrfToken\":\"+\\\\\"});});});</script>\n",
      "<link href=\"/w/load.php?lang=en&amp;modules=ext.cite.styles%7Cext.pygments%2CwikimediaBadges%7Cext.tmh.player.styles%7Cext.uls.interlanguage%7Cext.visualEditor.desktopArticleTarget.noscript%7Cjquery.makeCollapsible.styles%7Cmediawiki.ui.button%2Cicon%7Cskins.vector.icons%2Cstyles%7Cwikibase.client.init&amp;only=styles&amp;skin=vector-2022\" rel=\"stylesheet\"/>\n",
      "<script async=\"\" src=\"/w/load.php?lang=en&amp;modules=startup&amp;only=scripts&amp;raw=1&amp;skin=vector-2022\"></script>\n",
      "<meta content=\"\" name=\"ResourceLoaderDynamicStyles\"/>\n",
      "<link href=\"/w/load.php?lang=en&amp;modules=site.styles&amp;only=styles&amp;skin=vector-2022\" rel=\"stylesheet\"/>\n",
      "<meta content=\"MediaWiki 1.40.0-wmf.26\" name=\"generator\"/>\n",
      "<meta content=\"origin\" name=\"referrer\"/>\n",
      "<meta content=\"origin-when-crossorigin\" name=\"referrer\"/>\n",
      "<meta content=\"origin-when-cross-origin\" name=\"referrer\"/>\n",
      "<meta content=\"max-image-preview:standard\" name=\"robots\"/>\n",
      "<meta content=\"telephone=no\" name=\"format-detection\"/>\n",
      "<meta content=\"https://upload.wikimedia.org/wikipedia/commons/thumb/f/f0/Wikitext-wiki_markup-wikipedia.png/1200px-Wikitext-wiki_markup-wikipedia.png\" property=\"og:image\"/>\n",
      "<meta content=\"1200\" property=\"og:image:width\"/>\n",
      "<meta content=\"779\" property=\"og:image:height\"/>\n",
      "<meta content=\"https://upload.wikimedia.org/wikipedia/commons/thumb/f/f0/Wikitext-wiki_markup-wikipedia.png/800px-Wikitext-wiki_markup-wikipedia.png\" property=\"og:image\"/>\n",
      "<meta content=\"800\" property=\"og:image:width\"/>\n",
      "<meta content=\"519\" property=\"og:image:height\"/>\n",
      "<meta content=\"https://upload.wikimedia.org/wikipedia/commons/thumb/f/f0/Wikitext-wiki_markup-wikipedia.png/640px-Wikitext-wiki_markup-wikipedia.png\" property=\"og:image\"/>\n",
      "<meta content=\"640\" property=\"og:image:width\"/>\n",
      "<meta content=\"416\" property=\"og:image:height\"/>\n",
      "<meta content=\"width=1000\" name=\"viewport\"/>\n",
      "<meta content=\"Wiki - Wikipedia\" property=\"og:title\"/>\n",
      "<meta content=\"website\" property=\"og:type\"/>\n",
      "<link href=\"//upload.wikimedia.org\" rel=\"preconnect\"/>\n",
      "<link href=\"//en.m.wikipedia.org/wiki/Wiki\" media=\"only screen and (max-width: 720px)\" rel=\"alternate\"/>\n",
      "<link href=\"/static/apple-touch/wikipedia.png\" rel=\"apple-touch-icon\"/>\n",
      "<link href=\"/static/favicon/wikipedia.ico\" rel=\"icon\"/>\n",
      "<link href=\"/w/opensearch_desc.php\" rel=\"search\" title=\"Wikipedia (en)\" type=\"application/opensearchdescription+xml\"/>\n",
      "<link href=\"//en.wikipedia.org/w/api.php?action=rsd\" rel=\"EditURI\" type=\"application/rsd+xml\"/>\n",
      "<link href=\"https://en.wikipedia.org/wiki/Wiki\" rel=\"canonical\"/>\n",
      "<link href=\"https://creativecommons.org/licenses/by-sa/3.0/\" rel=\"license\"/>\n",
      "<link href=\"/w/index.php?title=Special:RecentChanges&amp;feed=atom\" rel=\"alternate\" title=\"Wikipedia Atom feed\" type=\"application/atom+xml\"/>\n",
      "<link href=\"//meta.wikimedia.org\" rel=\"dns-prefetch\"/>\n",
      "<link href=\"//login.wikimedia.org\" rel=\"dns-prefetch\"/>\n",
      "</head>\n"
     ]
    }
   ],
   "source": [
    "#Write a Python program to retrieve the HTML code of the title, its text, and the HTML code of its parent.\n",
    "import requests\n",
    "from bs4 import BeautifulSoup\n",
    "\n",
    "url = input(\"Give a URL to review: \")\n",
    "html = requests.get(url)\n",
    "soup = BeautifulSoup(html.text, \"html.parser\")\n",
    "\n",
    "print(\"Title:\", soup.title)\n",
    "print(\"Title text:\", soup.title.text)\n",
    "print(\"Parent content of the Title text:\")\n",
    "print(soup.title.parent)"
   ]
  },
  {
   "cell_type": "code",
   "execution_count": 50,
   "id": "7b210b20",
   "metadata": {},
   "outputs": [
    {
     "name": "stdout",
     "output_type": "stream",
     "text": [
      "Original String: <p>Some<b>bad<i>HTML Code</i></b></p>\n",
      "\n",
      "Formatted Unicode SAtring:\n",
      "<p>\n",
      " Some\n",
      " <b>\n",
      "  bad\n",
      "  <i>\n",
      "   HTML Code\n",
      "  </i>\n",
      " </b>\n",
      "</p>\n"
     ]
    }
   ],
   "source": [
    "#Write a Python program to create a Beautiful Soup parse tree into a nicely formatted Unicode string,\n",
    "#with a separate line for each HTML/XML tag and string.\n",
    "str1 = \"<p>Some<b>bad<i>HTML Code</i></b></p>\"\n",
    "print(\"Original String:\", str1)\n",
    "\n",
    "soup = BeautifulSoup(str1, \"html.parser\")\n",
    "print(\"\\nFormatted Unicode SAtring:\")\n",
    "print(soup.prettify())"
   ]
  },
  {
   "cell_type": "code",
   "execution_count": 54,
   "id": "4cb2196e",
   "metadata": {},
   "outputs": [
    {
     "name": "stdout",
     "output_type": "stream",
     "text": [
      "Original Markup:\n",
      "<a href=\"https://w3resource.com/\">Python exercises<i>w3resource</i></a>\n",
      "\n",
      "After clearing the contents in the tag:\n",
      "<a href=\"https://w3resource.com/\"></a>\n"
     ]
    }
   ],
   "source": [
    "#Write a Python program to remove the contents of a tag in a given html document.\n",
    "html_content = '<a href=\"https://w3resource.com/\">Python exercises<i>w3resource</i></a>'\n",
    "soup = BeautifulSoup(html_content, \"html.parser\")\n",
    "\n",
    "print(\"Original Markup:\")\n",
    "print(soup.a)\n",
    "tag = soup.a\n",
    "tag = tag.clear()\n",
    "print(\"\\nAfter clearing the contents in the tag:\")\n",
    "print(soup.a)"
   ]
  },
  {
   "cell_type": "code",
   "execution_count": 63,
   "id": "72387275",
   "metadata": {},
   "outputs": [
    {
     "name": "stdout",
     "output_type": "stream",
     "text": [
      "Original Markup:\n",
      "<i>Python exercises.</i>\n",
      "\n",
      "New Markup:\n",
      "<div><p><i>Python exercises.</i></p></div>\n"
     ]
    }
   ],
   "source": [
    "#Write a Python program to wrap an element in the specified tag and create the new wrapper.\n",
    "html_content = \"<p>Python exercises.</p>\"\n",
    "soup = BeautifulSoup(html_content, \"html.parser\")\n",
    "\n",
    "print(\"Original Markup:\")\n",
    "print(soup.p.string.wrap(soup.new_tag(\"i\")))\n",
    "\n",
    "print(\"\\nNew Markup:\")\n",
    "print(soup.p.wrap(soup.new_tag(\"div\")))"
   ]
  },
  {
   "cell_type": "code",
   "execution_count": 68,
   "id": "07fe4649",
   "metadata": {},
   "outputs": [
    {
     "name": "stdout",
     "output_type": "stream",
     "text": [
      "Original Markup:\n",
      "<a href=\"https://w3resource.com/\">Python exercises<i>w3resource</i></a>\n",
      "After decomposing:\n",
      "None\n"
     ]
    }
   ],
   "source": [
    "#Write a Python program to remove a tag from a given tree of html document and destroy it and its contents.\n",
    "html_content = '<a href=\"https://w3resource.com/\">Python exercises<i>w3resource</i></a>'\n",
    "soup = BeautifulSoup(html_content, \"lxml\")\n",
    "\n",
    "print(\"Original Markup:\")\n",
    "a_tag = soup.a\n",
    "print(a_tag)\n",
    "\n",
    "new_tag = soup.a.decompose()\n",
    "print(\"After decomposing:\")\n",
    "print(new_tag)"
   ]
  },
  {
   "cell_type": "code",
   "execution_count": null,
   "id": "7d8d8ebf",
   "metadata": {},
   "outputs": [],
   "source": []
  }
 ],
 "metadata": {
  "kernelspec": {
   "display_name": "Python 3 (ipykernel)",
   "language": "python",
   "name": "python3"
  },
  "language_info": {
   "codemirror_mode": {
    "name": "ipython",
    "version": 3
   },
   "file_extension": ".py",
   "mimetype": "text/x-python",
   "name": "python",
   "nbconvert_exporter": "python",
   "pygments_lexer": "ipython3",
   "version": "3.9.13"
  }
 },
 "nbformat": 4,
 "nbformat_minor": 5
}
